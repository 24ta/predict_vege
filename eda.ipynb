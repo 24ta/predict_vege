{
 "cells": [
  {
   "cell_type": "code",
   "execution_count": 1,
   "metadata": {},
   "outputs": [],
   "source": [
    "import pandas as pd\n",
    "import numpy as np\n",
    "\n",
    "import matplotlib.pyplot as plt\n",
    "# matplotlib日本語対応\n",
    "import matplotlib\n",
    "matplotlib.rc('font', family='BIZ UDGothic')\n",
    "\n",
    "import pandas_profiling as pdp"
   ]
  },
  {
   "cell_type": "code",
   "execution_count": null,
   "metadata": {},
   "outputs": [],
   "source": [
    "base_path = 'data/'\n",
    "\n",
    "# 野菜データ\n",
    "train_df = pd.read_csv(base_path + 'preprocessed_train.csv')\n",
    "\n",
    "# 天気データ\n",
    "weather_df = pd.read_csv(base_path + 'preprocessed_weather.csv')\n",
    "\n",
    "# 野菜データ test\n",
    "test_df = pd.read_csv(base_path + 'preprocessed_test.csv')"
   ]
  },
  {
   "cell_type": "code",
   "execution_count": null,
   "metadata": {},
   "outputs": [],
   "source": [
    "print(train_df.date.min())\n",
    "print(train_df.date.max())"
   ]
  },
  {
   "cell_type": "code",
   "execution_count": null,
   "metadata": {},
   "outputs": [],
   "source": [
    "print(train_df.kind.unique())\n",
    "plt.figure(figsize=(12,6))\n",
    "plt.xticks(rotation=90)\n",
    "train_df.kind.hist()"
   ]
  },
  {
   "cell_type": "code",
   "execution_count": null,
   "metadata": {},
   "outputs": [],
   "source": [
    "# pandas-profilingでデータの外観を確認\n",
    "report = pdp.ProfileReport(train_df)\n",
    "report.to_file('Pandas-profiling_report.html')"
   ]
  },
  {
   "cell_type": "markdown",
   "metadata": {},
   "source": [
    "欠損値の処理の仕方\n",
    "- データが非常多ければ削除\n",
    "- 大体は欠損値保管\n",
    "    - 回帰"
   ]
  },
  {
   "cell_type": "markdown",
   "metadata": {},
   "source": []
  }
 ],
 "metadata": {
  "kernelspec": {
   "display_name": "Python 3.8.13 ('ds')",
   "language": "python",
   "name": "python3"
  },
  "language_info": {
   "codemirror_mode": {
    "name": "ipython",
    "version": 3
   },
   "file_extension": ".py",
   "mimetype": "text/x-python",
   "name": "python",
   "nbconvert_exporter": "python",
   "pygments_lexer": "ipython3",
   "version": "3.8.13"
  },
  "orig_nbformat": 4,
  "vscode": {
   "interpreter": {
    "hash": "241b99404d665e26c86dd6bd11157695d060d8aaf1ab084d739d1eb7b9b836b5"
   }
  }
 },
 "nbformat": 4,
 "nbformat_minor": 2
}
