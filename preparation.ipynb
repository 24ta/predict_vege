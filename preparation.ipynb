{
 "cells": [
  {
   "cell_type": "code",
   "execution_count": 1,
   "metadata": {},
   "outputs": [],
   "source": [
    "import pandas as pd\n",
    "import numpy as np\n",
    "\n",
    "import matplotlib.pyplot as plt\n",
    "# matplotlib日本語対応\n",
    "import matplotlib\n",
    "matplotlib.rc('font', family='BIZ UDGothic')\n",
    "\n",
    "import pandas_profiling as pdp"
   ]
  },
  {
   "cell_type": "markdown",
   "metadata": {},
   "source": [
    "## Read Data"
   ]
  },
  {
   "cell_type": "markdown",
   "metadata": {},
   "source": [
    "### train.csv\n",
    "|特徴量|内容|例|\n",
    "|:---:|:---|:---:|\n",
    "|kind|野菜の種類|だいこん、かぶ、にんじん|\n",
    "|date|日付|20051107|\n",
    "|amount|卸売数量合計（合計の意味は、複数産地のものがあればその合計をとっているの意味）||\n",
    "|mode_price|卸売価格中央値（中央値の意味は、複数産地のものがあればその中央値をとっているの意味）<-最頻値の間違い？||\n",
    "|area|産地。複数産地のものが売られていた場合は\"_\"で結合||\n",
    "\n",
    "- area:各地は「特定できない産地」という意味。「千葉_青森_各地」となっている場合の「各地」は、「千葉でも青森でもないエリア(特定できない)」の意味。\n",
    "\n",
    "### wather.csv\n",
    "|特徴量|内容|例|\n",
    "|:---:|:---|:---:|\n",
    "|date|日付||\n",
    "|mean_temp|平均気温（℃）||\n",
    "|max_temp|最高気温（℃）||\n",
    "|max_temp_time|最高気温（℃）（時分）||\n",
    "|min_temp|最低気温（℃）||\n",
    "|min_temp_time|最低気温（℃）（時分）||\n",
    "|sum_rain|降水量合計（mm）||\n",
    "|sun_time|日照時間（時間）||\n",
    "|mean_humid|平均湿度（%）||\n",
    "|area|エリア||"
   ]
  },
  {
   "cell_type": "code",
   "execution_count": 2,
   "metadata": {},
   "outputs": [],
   "source": [
    "# 野菜データ\n",
    "vege_df = pd.read_csv('train.csv')\n",
    "\n",
    "# 天気データ\n",
    "weather_df = pd.read_csv('weather.csv')\n",
    "\n",
    "# 野菜データ test\n",
    "test_df = pd.read_csv('test.csv')"
   ]
  },
  {
   "cell_type": "code",
   "execution_count": 3,
   "metadata": {},
   "outputs": [],
   "source": [
    "all_df = pd.concat([vege_df, test_df])"
   ]
  },
  {
   "cell_type": "markdown",
   "metadata": {},
   "source": [
    "## データ確認：天気"
   ]
  },
  {
   "cell_type": "code",
   "execution_count": 4,
   "metadata": {},
   "outputs": [
    {
     "data": {
      "text/html": [
       "<div>\n",
       "<style scoped>\n",
       "    .dataframe tbody tr th:only-of-type {\n",
       "        vertical-align: middle;\n",
       "    }\n",
       "\n",
       "    .dataframe tbody tr th {\n",
       "        vertical-align: top;\n",
       "    }\n",
       "\n",
       "    .dataframe thead th {\n",
       "        text-align: right;\n",
       "    }\n",
       "</style>\n",
       "<table border=\"1\" class=\"dataframe\">\n",
       "  <thead>\n",
       "    <tr style=\"text-align: right;\">\n",
       "      <th></th>\n",
       "      <th>date</th>\n",
       "      <th>mean_temp</th>\n",
       "      <th>max_temp</th>\n",
       "      <th>max_temp_time</th>\n",
       "      <th>min_temp</th>\n",
       "      <th>min_temp_time</th>\n",
       "      <th>sum_rain</th>\n",
       "      <th>sun_time</th>\n",
       "      <th>mean_humid</th>\n",
       "      <th>area</th>\n",
       "    </tr>\n",
       "  </thead>\n",
       "  <tbody>\n",
       "    <tr>\n",
       "      <th>0</th>\n",
       "      <td>20041106</td>\n",
       "      <td>13.1</td>\n",
       "      <td>20.1</td>\n",
       "      <td>2004/11/6 12:50</td>\n",
       "      <td>8.1</td>\n",
       "      <td>2004/11/6 05:31</td>\n",
       "      <td>5.0</td>\n",
       "      <td>1.6</td>\n",
       "      <td>77.0</td>\n",
       "      <td>青森</td>\n",
       "    </tr>\n",
       "    <tr>\n",
       "      <th>1</th>\n",
       "      <td>20041107</td>\n",
       "      <td>9.6</td>\n",
       "      <td>12.5</td>\n",
       "      <td>2004/11/7 13:40</td>\n",
       "      <td>5.4</td>\n",
       "      <td>2004/11/7 22:17</td>\n",
       "      <td>0.0</td>\n",
       "      <td>4.1</td>\n",
       "      <td>63.0</td>\n",
       "      <td>青森</td>\n",
       "    </tr>\n",
       "    <tr>\n",
       "      <th>2</th>\n",
       "      <td>20041108</td>\n",
       "      <td>9.0</td>\n",
       "      <td>15.5</td>\n",
       "      <td>2004/11/8 12:51</td>\n",
       "      <td>3.2</td>\n",
       "      <td>2004/11/8 06:28</td>\n",
       "      <td>0.0</td>\n",
       "      <td>8.9</td>\n",
       "      <td>72.0</td>\n",
       "      <td>青森</td>\n",
       "    </tr>\n",
       "    <tr>\n",
       "      <th>3</th>\n",
       "      <td>20041109</td>\n",
       "      <td>12.2</td>\n",
       "      <td>17.7</td>\n",
       "      <td>2004/11/9 14:40</td>\n",
       "      <td>5.7</td>\n",
       "      <td>2004/11/9 02:49</td>\n",
       "      <td>1.5</td>\n",
       "      <td>1.2</td>\n",
       "      <td>85.0</td>\n",
       "      <td>青森</td>\n",
       "    </tr>\n",
       "    <tr>\n",
       "      <th>4</th>\n",
       "      <td>20041110</td>\n",
       "      <td>11.6</td>\n",
       "      <td>16.4</td>\n",
       "      <td>2004/11/10 14:42</td>\n",
       "      <td>6.9</td>\n",
       "      <td>2004/11/10 06:23</td>\n",
       "      <td>0.0</td>\n",
       "      <td>7.5</td>\n",
       "      <td>89.0</td>\n",
       "      <td>青森</td>\n",
       "    </tr>\n",
       "  </tbody>\n",
       "</table>\n",
       "</div>"
      ],
      "text/plain": [
       "       date  mean_temp  max_temp     max_temp_time  min_temp  \\\n",
       "0  20041106       13.1      20.1   2004/11/6 12:50       8.1   \n",
       "1  20041107        9.6      12.5   2004/11/7 13:40       5.4   \n",
       "2  20041108        9.0      15.5   2004/11/8 12:51       3.2   \n",
       "3  20041109       12.2      17.7   2004/11/9 14:40       5.7   \n",
       "4  20041110       11.6      16.4  2004/11/10 14:42       6.9   \n",
       "\n",
       "      min_temp_time  sum_rain  sun_time  mean_humid area  \n",
       "0   2004/11/6 05:31       5.0       1.6        77.0   青森  \n",
       "1   2004/11/7 22:17       0.0       4.1        63.0   青森  \n",
       "2   2004/11/8 06:28       0.0       8.9        72.0   青森  \n",
       "3   2004/11/9 02:49       1.5       1.2        85.0   青森  \n",
       "4  2004/11/10 06:23       0.0       7.5        89.0   青森  "
      ]
     },
     "execution_count": 4,
     "metadata": {},
     "output_type": "execute_result"
    }
   ],
   "source": [
    "weather_df.head(5)"
   ]
  },
  {
   "cell_type": "code",
   "execution_count": 5,
   "metadata": {},
   "outputs": [],
   "source": [
    "# 日付、温度観測時点を年月日のdatetimeに変換\n",
    "weather_df['date'] = pd.to_datetime(weather_df['date'], format=\"%Y%m%d\")\n",
    "weather_df['max_temp_time'] = pd.to_datetime(weather_df['max_temp_time'].str[:-5])\n",
    "weather_df['min_temp_time'] = pd.to_datetime(weather_df['min_temp_time'].str[:-5])"
   ]
  },
  {
   "cell_type": "code",
   "execution_count": 6,
   "metadata": {},
   "outputs": [
    {
     "name": "stdout",
     "output_type": "stream",
     "text": [
      "温度観測時点と日付に乖離があるか確認: ['0' '-1' '']\n",
      "温度観測時点と日付に乖離があるか確認: ['0' '-1' '']\n"
     ]
    }
   ],
   "source": [
    "print(\"温度観測時点と日付に乖離があるか確認:\",(weather_df['date'] - weather_df['max_temp_time']).astype('str').str[:-5].unique())\n",
    "# display(weather_df[(weather_df['date'] - weather_df['max_temp_time']).astype('str').str[:-5] == \"\"])\n",
    "\n",
    "print(\"温度観測時点と日付に乖離があるか確認:\",(weather_df['date'] - weather_df['min_temp_time']).astype('str').str[:-5].unique())\n",
    "# display(weather_df[(weather_df['date'] - weather_df['min_temp_time']).astype('str').str[:-5] == \"\"])"
   ]
  },
  {
   "cell_type": "code",
   "execution_count": 7,
   "metadata": {},
   "outputs": [],
   "source": [
    "# 時点を削除\n",
    "weather_df.drop([\"max_temp_time\", \"min_temp_time\"], axis=1, inplace=True)"
   ]
  },
  {
   "cell_type": "code",
   "execution_count": 8,
   "metadata": {},
   "outputs": [
    {
     "data": {
      "text/html": [
       "<div>\n",
       "<style scoped>\n",
       "    .dataframe tbody tr th:only-of-type {\n",
       "        vertical-align: middle;\n",
       "    }\n",
       "\n",
       "    .dataframe tbody tr th {\n",
       "        vertical-align: top;\n",
       "    }\n",
       "\n",
       "    .dataframe thead th {\n",
       "        text-align: right;\n",
       "    }\n",
       "</style>\n",
       "<table border=\"1\" class=\"dataframe\">\n",
       "  <thead>\n",
       "    <tr style=\"text-align: right;\">\n",
       "      <th></th>\n",
       "      <th>date</th>\n",
       "      <th>mean_temp</th>\n",
       "      <th>max_temp</th>\n",
       "      <th>min_temp</th>\n",
       "      <th>sum_rain</th>\n",
       "      <th>sun_time</th>\n",
       "      <th>mean_humid</th>\n",
       "      <th>area</th>\n",
       "    </tr>\n",
       "  </thead>\n",
       "  <tbody>\n",
       "    <tr>\n",
       "      <th>0</th>\n",
       "      <td>2004-11-06</td>\n",
       "      <td>15.525000</td>\n",
       "      <td>20.903125</td>\n",
       "      <td>11.409375</td>\n",
       "      <td>0.437500</td>\n",
       "      <td>6.915625</td>\n",
       "      <td>71.81250</td>\n",
       "      <td>全国</td>\n",
       "    </tr>\n",
       "    <tr>\n",
       "      <th>1</th>\n",
       "      <td>2004-11-07</td>\n",
       "      <td>15.337500</td>\n",
       "      <td>20.575000</td>\n",
       "      <td>10.506250</td>\n",
       "      <td>0.000000</td>\n",
       "      <td>8.134375</td>\n",
       "      <td>68.40625</td>\n",
       "      <td>全国</td>\n",
       "    </tr>\n",
       "    <tr>\n",
       "      <th>2</th>\n",
       "      <td>2004-11-08</td>\n",
       "      <td>15.018750</td>\n",
       "      <td>20.215625</td>\n",
       "      <td>10.378125</td>\n",
       "      <td>0.015625</td>\n",
       "      <td>6.325000</td>\n",
       "      <td>70.43750</td>\n",
       "      <td>全国</td>\n",
       "    </tr>\n",
       "    <tr>\n",
       "      <th>3</th>\n",
       "      <td>2004-11-09</td>\n",
       "      <td>15.687500</td>\n",
       "      <td>21.812500</td>\n",
       "      <td>10.881250</td>\n",
       "      <td>0.234375</td>\n",
       "      <td>7.746875</td>\n",
       "      <td>71.56250</td>\n",
       "      <td>全国</td>\n",
       "    </tr>\n",
       "    <tr>\n",
       "      <th>4</th>\n",
       "      <td>2004-11-10</td>\n",
       "      <td>16.478125</td>\n",
       "      <td>21.715625</td>\n",
       "      <td>11.400000</td>\n",
       "      <td>5.453125</td>\n",
       "      <td>5.709375</td>\n",
       "      <td>71.28125</td>\n",
       "      <td>全国</td>\n",
       "    </tr>\n",
       "    <tr>\n",
       "      <th>...</th>\n",
       "      <td>...</td>\n",
       "      <td>...</td>\n",
       "      <td>...</td>\n",
       "      <td>...</td>\n",
       "      <td>...</td>\n",
       "      <td>...</td>\n",
       "      <td>...</td>\n",
       "      <td>...</td>\n",
       "    </tr>\n",
       "    <tr>\n",
       "      <th>6380</th>\n",
       "      <td>2022-04-26</td>\n",
       "      <td>20.146875</td>\n",
       "      <td>23.943750</td>\n",
       "      <td>16.743750</td>\n",
       "      <td>19.718750</td>\n",
       "      <td>0.546875</td>\n",
       "      <td>85.00000</td>\n",
       "      <td>全国</td>\n",
       "    </tr>\n",
       "    <tr>\n",
       "      <th>6381</th>\n",
       "      <td>2022-04-27</td>\n",
       "      <td>19.634375</td>\n",
       "      <td>24.268750</td>\n",
       "      <td>15.193750</td>\n",
       "      <td>5.406250</td>\n",
       "      <td>3.331250</td>\n",
       "      <td>77.21875</td>\n",
       "      <td>全国</td>\n",
       "    </tr>\n",
       "    <tr>\n",
       "      <th>6382</th>\n",
       "      <td>2022-04-28</td>\n",
       "      <td>16.965625</td>\n",
       "      <td>21.950000</td>\n",
       "      <td>12.609375</td>\n",
       "      <td>0.062500</td>\n",
       "      <td>7.793750</td>\n",
       "      <td>61.93750</td>\n",
       "      <td>全国</td>\n",
       "    </tr>\n",
       "    <tr>\n",
       "      <th>6383</th>\n",
       "      <td>2022-04-29</td>\n",
       "      <td>13.887500</td>\n",
       "      <td>18.603125</td>\n",
       "      <td>9.593750</td>\n",
       "      <td>28.453125</td>\n",
       "      <td>1.031250</td>\n",
       "      <td>78.15625</td>\n",
       "      <td>全国</td>\n",
       "    </tr>\n",
       "    <tr>\n",
       "      <th>6384</th>\n",
       "      <td>2022-04-30</td>\n",
       "      <td>13.343750</td>\n",
       "      <td>18.515625</td>\n",
       "      <td>8.500000</td>\n",
       "      <td>0.296875</td>\n",
       "      <td>10.037500</td>\n",
       "      <td>61.12500</td>\n",
       "      <td>全国</td>\n",
       "    </tr>\n",
       "  </tbody>\n",
       "</table>\n",
       "<p>6385 rows × 8 columns</p>\n",
       "</div>"
      ],
      "text/plain": [
       "           date  mean_temp   max_temp   min_temp   sum_rain   sun_time  \\\n",
       "0    2004-11-06  15.525000  20.903125  11.409375   0.437500   6.915625   \n",
       "1    2004-11-07  15.337500  20.575000  10.506250   0.000000   8.134375   \n",
       "2    2004-11-08  15.018750  20.215625  10.378125   0.015625   6.325000   \n",
       "3    2004-11-09  15.687500  21.812500  10.881250   0.234375   7.746875   \n",
       "4    2004-11-10  16.478125  21.715625  11.400000   5.453125   5.709375   \n",
       "...         ...        ...        ...        ...        ...        ...   \n",
       "6380 2022-04-26  20.146875  23.943750  16.743750  19.718750   0.546875   \n",
       "6381 2022-04-27  19.634375  24.268750  15.193750   5.406250   3.331250   \n",
       "6382 2022-04-28  16.965625  21.950000  12.609375   0.062500   7.793750   \n",
       "6383 2022-04-29  13.887500  18.603125   9.593750  28.453125   1.031250   \n",
       "6384 2022-04-30  13.343750  18.515625   8.500000   0.296875  10.037500   \n",
       "\n",
       "      mean_humid area  \n",
       "0       71.81250   全国  \n",
       "1       68.40625   全国  \n",
       "2       70.43750   全国  \n",
       "3       71.56250   全国  \n",
       "4       71.28125   全国  \n",
       "...          ...  ...  \n",
       "6380    85.00000   全国  \n",
       "6381    77.21875   全国  \n",
       "6382    61.93750   全国  \n",
       "6383    78.15625   全国  \n",
       "6384    61.12500   全国  \n",
       "\n",
       "[6385 rows x 8 columns]"
      ]
     },
     "execution_count": 8,
     "metadata": {},
     "output_type": "execute_result"
    }
   ],
   "source": [
    "# 全国平均を作成\n",
    "weather_all = weather_df.groupby('date').agg('mean').reset_index()\n",
    "weather_all['area'] = \"全国\"\n",
    "weather_all"
   ]
  },
  {
   "cell_type": "code",
   "execution_count": 9,
   "metadata": {},
   "outputs": [],
   "source": [
    "# 全国平均を統合\n",
    "weather_df = weather_df.append(weather_all)"
   ]
  },
  {
   "cell_type": "code",
   "execution_count": 10,
   "metadata": {},
   "outputs": [
    {
     "data": {
      "text/plain": [
       "{'アメリカ',\n",
       " 'カナダ',\n",
       " 'トンガ',\n",
       " 'ニュージーランド',\n",
       " 'メキシコ',\n",
       " '中国',\n",
       " '佐賀',\n",
       " '兵庫',\n",
       " '北海道',\n",
       " '千葉',\n",
       " '各地',\n",
       " '和歌山',\n",
       " '埼玉',\n",
       " '宮城',\n",
       " '宮崎',\n",
       " '山形',\n",
       " '山梨',\n",
       " '岩手',\n",
       " '徳島',\n",
       " '愛媛',\n",
       " '愛知',\n",
       " '新潟',\n",
       " '東京',\n",
       " '栃木',\n",
       " '沖縄',\n",
       " '熊本',\n",
       " '神奈川',\n",
       " '福岡',\n",
       " '福島',\n",
       " '秋田',\n",
       " '群馬',\n",
       " '茨城',\n",
       " '長崎',\n",
       " '長野',\n",
       " '青森',\n",
       " '静岡',\n",
       " '香川',\n",
       " '高知',\n",
       " '鹿児島'}"
      ]
     },
     "execution_count": 10,
     "metadata": {},
     "output_type": "execute_result"
    }
   ],
   "source": [
    "area_pairs = vege_df['area'].unique()\n",
    "\n",
    "yasai_areas = set()\n",
    "\n",
    "for area_pair in area_pairs:\n",
    "    areas = area_pair.split('_')\n",
    "    yasai_areas |= set(areas)\n",
    "\n",
    "yasai_areas"
   ]
  },
  {
   "cell_type": "code",
   "execution_count": 11,
   "metadata": {},
   "outputs": [],
   "source": [
    "weather_areas = weather_df['area'].unique()"
   ]
  },
  {
   "cell_type": "code",
   "execution_count": 12,
   "metadata": {},
   "outputs": [
    {
     "data": {
      "text/plain": [
       "{'メキシコ': '全国',\n",
       " '和歌山': '和歌山',\n",
       " '福岡': '福岡',\n",
       " '香川': '高松',\n",
       " '愛知': '名古屋',\n",
       " '山形': '山形',\n",
       " '徳島': '徳島',\n",
       " '長崎': '長崎',\n",
       " '長野': '長野',\n",
       " '中国': '全国',\n",
       " '千葉': '千葉',\n",
       " '青森': '青森',\n",
       " 'トンガ': '全国',\n",
       " '埼玉': '熊谷',\n",
       " '沖縄': '那覇',\n",
       " '栃木': '宇都宮',\n",
       " '山梨': '甲府',\n",
       " '神奈川': '横浜',\n",
       " 'ニュージーランド': '全国',\n",
       " '各地': '全国',\n",
       " 'カナダ': '全国',\n",
       " '北海道': '帯広',\n",
       " '兵庫': '神戸',\n",
       " '熊本': '熊本',\n",
       " '宮城': '仙台',\n",
       " 'アメリカ': '全国',\n",
       " '茨城': '水戸',\n",
       " '高知': '高知',\n",
       " '東京': '東京',\n",
       " '秋田': '秋田',\n",
       " '愛媛': '松山',\n",
       " '鹿児島': '鹿児島',\n",
       " '群馬': '前橋',\n",
       " '新潟': '新潟',\n",
       " '静岡': '浜松',\n",
       " '佐賀': '佐賀',\n",
       " '宮崎': '宮崎',\n",
       " '福島': '福島',\n",
       " '岩手': '盛岡',\n",
       " '国内': '全国'}"
      ]
     },
     "execution_count": 12,
     "metadata": {},
     "output_type": "execute_result"
    }
   ],
   "source": [
    "# エリア返還のmap作成\n",
    "area_map = {}\n",
    "\n",
    "update_area_map = {\n",
    "    '岩手':'盛岡','宮城':'仙台','静岡':'浜松','沖縄':'那覇','神奈川':'横浜','愛知':'名古屋','茨城':'水戸','北海道':'帯広','各地':'全国',\n",
    "    '兵庫':'神戸','香川':'高松','埼玉':'熊谷','国内':'全国','山梨':'甲府','栃木':'宇都宮','群馬':'前橋','愛媛':'松山'\n",
    "}\n",
    "\n",
    "for yasai_area in yasai_areas:\n",
    "    if yasai_area not in weather_areas and yasai_area not in update_area_map:\n",
    "        area_map[yasai_area] = '全国' # 外国の天候は全国にしておく\n",
    "    else:\n",
    "        area_map[yasai_area] = yasai_area\n",
    "\n",
    "area_map = {**area_map, **update_area_map}\n",
    "area_map"
   ]
  },
  {
   "cell_type": "code",
   "execution_count": 13,
   "metadata": {},
   "outputs": [
    {
     "data": {
      "text/html": [
       "<div>\n",
       "<style scoped>\n",
       "    .dataframe tbody tr th:only-of-type {\n",
       "        vertical-align: middle;\n",
       "    }\n",
       "\n",
       "    .dataframe tbody tr th {\n",
       "        vertical-align: top;\n",
       "    }\n",
       "\n",
       "    .dataframe thead th {\n",
       "        text-align: right;\n",
       "    }\n",
       "</style>\n",
       "<table border=\"1\" class=\"dataframe\">\n",
       "  <thead>\n",
       "    <tr style=\"text-align: right;\">\n",
       "      <th></th>\n",
       "      <th>date</th>\n",
       "      <th>mean_temp</th>\n",
       "      <th>max_temp</th>\n",
       "      <th>min_temp</th>\n",
       "      <th>sum_rain</th>\n",
       "      <th>sun_time</th>\n",
       "      <th>mean_humid</th>\n",
       "      <th>area</th>\n",
       "    </tr>\n",
       "  </thead>\n",
       "  <tbody>\n",
       "    <tr>\n",
       "      <th>0</th>\n",
       "      <td>2004-11-06</td>\n",
       "      <td>13.100000</td>\n",
       "      <td>20.100000</td>\n",
       "      <td>8.100000</td>\n",
       "      <td>5.000000</td>\n",
       "      <td>1.600000</td>\n",
       "      <td>77.00000</td>\n",
       "      <td>青森</td>\n",
       "    </tr>\n",
       "    <tr>\n",
       "      <th>1</th>\n",
       "      <td>2004-11-07</td>\n",
       "      <td>9.600000</td>\n",
       "      <td>12.500000</td>\n",
       "      <td>5.400000</td>\n",
       "      <td>0.000000</td>\n",
       "      <td>4.100000</td>\n",
       "      <td>63.00000</td>\n",
       "      <td>青森</td>\n",
       "    </tr>\n",
       "    <tr>\n",
       "      <th>2</th>\n",
       "      <td>2004-11-08</td>\n",
       "      <td>9.000000</td>\n",
       "      <td>15.500000</td>\n",
       "      <td>3.200000</td>\n",
       "      <td>0.000000</td>\n",
       "      <td>8.900000</td>\n",
       "      <td>72.00000</td>\n",
       "      <td>青森</td>\n",
       "    </tr>\n",
       "    <tr>\n",
       "      <th>3</th>\n",
       "      <td>2004-11-09</td>\n",
       "      <td>12.200000</td>\n",
       "      <td>17.700000</td>\n",
       "      <td>5.700000</td>\n",
       "      <td>1.500000</td>\n",
       "      <td>1.200000</td>\n",
       "      <td>85.00000</td>\n",
       "      <td>青森</td>\n",
       "    </tr>\n",
       "    <tr>\n",
       "      <th>4</th>\n",
       "      <td>2004-11-10</td>\n",
       "      <td>11.600000</td>\n",
       "      <td>16.400000</td>\n",
       "      <td>6.900000</td>\n",
       "      <td>0.000000</td>\n",
       "      <td>7.500000</td>\n",
       "      <td>89.00000</td>\n",
       "      <td>青森</td>\n",
       "    </tr>\n",
       "    <tr>\n",
       "      <th>...</th>\n",
       "      <td>...</td>\n",
       "      <td>...</td>\n",
       "      <td>...</td>\n",
       "      <td>...</td>\n",
       "      <td>...</td>\n",
       "      <td>...</td>\n",
       "      <td>...</td>\n",
       "      <td>...</td>\n",
       "    </tr>\n",
       "    <tr>\n",
       "      <th>6380</th>\n",
       "      <td>2022-04-26</td>\n",
       "      <td>20.146875</td>\n",
       "      <td>23.943750</td>\n",
       "      <td>16.743750</td>\n",
       "      <td>19.718750</td>\n",
       "      <td>0.546875</td>\n",
       "      <td>85.00000</td>\n",
       "      <td>全国</td>\n",
       "    </tr>\n",
       "    <tr>\n",
       "      <th>6381</th>\n",
       "      <td>2022-04-27</td>\n",
       "      <td>19.634375</td>\n",
       "      <td>24.268750</td>\n",
       "      <td>15.193750</td>\n",
       "      <td>5.406250</td>\n",
       "      <td>3.331250</td>\n",
       "      <td>77.21875</td>\n",
       "      <td>全国</td>\n",
       "    </tr>\n",
       "    <tr>\n",
       "      <th>6382</th>\n",
       "      <td>2022-04-28</td>\n",
       "      <td>16.965625</td>\n",
       "      <td>21.950000</td>\n",
       "      <td>12.609375</td>\n",
       "      <td>0.062500</td>\n",
       "      <td>7.793750</td>\n",
       "      <td>61.93750</td>\n",
       "      <td>全国</td>\n",
       "    </tr>\n",
       "    <tr>\n",
       "      <th>6383</th>\n",
       "      <td>2022-04-29</td>\n",
       "      <td>13.887500</td>\n",
       "      <td>18.603125</td>\n",
       "      <td>9.593750</td>\n",
       "      <td>28.453125</td>\n",
       "      <td>1.031250</td>\n",
       "      <td>78.15625</td>\n",
       "      <td>全国</td>\n",
       "    </tr>\n",
       "    <tr>\n",
       "      <th>6384</th>\n",
       "      <td>2022-04-30</td>\n",
       "      <td>13.343750</td>\n",
       "      <td>18.515625</td>\n",
       "      <td>8.500000</td>\n",
       "      <td>0.296875</td>\n",
       "      <td>10.037500</td>\n",
       "      <td>61.12500</td>\n",
       "      <td>全国</td>\n",
       "    </tr>\n",
       "  </tbody>\n",
       "</table>\n",
       "<p>210705 rows × 8 columns</p>\n",
       "</div>"
      ],
      "text/plain": [
       "           date  mean_temp   max_temp   min_temp   sum_rain   sun_time  \\\n",
       "0    2004-11-06  13.100000  20.100000   8.100000   5.000000   1.600000   \n",
       "1    2004-11-07   9.600000  12.500000   5.400000   0.000000   4.100000   \n",
       "2    2004-11-08   9.000000  15.500000   3.200000   0.000000   8.900000   \n",
       "3    2004-11-09  12.200000  17.700000   5.700000   1.500000   1.200000   \n",
       "4    2004-11-10  11.600000  16.400000   6.900000   0.000000   7.500000   \n",
       "...         ...        ...        ...        ...        ...        ...   \n",
       "6380 2022-04-26  20.146875  23.943750  16.743750  19.718750   0.546875   \n",
       "6381 2022-04-27  19.634375  24.268750  15.193750   5.406250   3.331250   \n",
       "6382 2022-04-28  16.965625  21.950000  12.609375   0.062500   7.793750   \n",
       "6383 2022-04-29  13.887500  18.603125   9.593750  28.453125   1.031250   \n",
       "6384 2022-04-30  13.343750  18.515625   8.500000   0.296875  10.037500   \n",
       "\n",
       "      mean_humid area  \n",
       "0       77.00000   青森  \n",
       "1       63.00000   青森  \n",
       "2       72.00000   青森  \n",
       "3       85.00000   青森  \n",
       "4       89.00000   青森  \n",
       "...          ...  ...  \n",
       "6380    85.00000   全国  \n",
       "6381    77.21875   全国  \n",
       "6382    61.93750   全国  \n",
       "6383    78.15625   全国  \n",
       "6384    61.12500   全国  \n",
       "\n",
       "[210705 rows x 8 columns]"
      ]
     },
     "execution_count": 13,
     "metadata": {},
     "output_type": "execute_result"
    }
   ],
   "source": [
    "weather_df"
   ]
  },
  {
   "cell_type": "markdown",
   "metadata": {},
   "source": [
    "「各地」「アメリカ」などを「全国」に変換　←精緻化余地あり！！！！"
   ]
  },
  {
   "cell_type": "code",
   "execution_count": 14,
   "metadata": {},
   "outputs": [
    {
     "data": {
      "text/html": [
       "<div>\n",
       "<style scoped>\n",
       "    .dataframe tbody tr th:only-of-type {\n",
       "        vertical-align: middle;\n",
       "    }\n",
       "\n",
       "    .dataframe tbody tr th {\n",
       "        vertical-align: top;\n",
       "    }\n",
       "\n",
       "    .dataframe thead th {\n",
       "        text-align: right;\n",
       "    }\n",
       "</style>\n",
       "<table border=\"1\" class=\"dataframe\">\n",
       "  <thead>\n",
       "    <tr style=\"text-align: right;\">\n",
       "      <th></th>\n",
       "      <th>kind</th>\n",
       "      <th>date</th>\n",
       "      <th>amount</th>\n",
       "      <th>mode_price</th>\n",
       "      <th>area</th>\n",
       "    </tr>\n",
       "  </thead>\n",
       "  <tbody>\n",
       "    <tr>\n",
       "      <th>0</th>\n",
       "      <td>だいこん</td>\n",
       "      <td>20051107</td>\n",
       "      <td>201445</td>\n",
       "      <td>735.0</td>\n",
       "      <td>千葉</td>\n",
       "    </tr>\n",
       "    <tr>\n",
       "      <th>1</th>\n",
       "      <td>だいこん</td>\n",
       "      <td>20051108</td>\n",
       "      <td>189660</td>\n",
       "      <td>840.0</td>\n",
       "      <td>千葉_全国_青森</td>\n",
       "    </tr>\n",
       "    <tr>\n",
       "      <th>2</th>\n",
       "      <td>だいこん</td>\n",
       "      <td>20051110</td>\n",
       "      <td>218166</td>\n",
       "      <td>735.0</td>\n",
       "      <td>千葉_全国_青森</td>\n",
       "    </tr>\n",
       "    <tr>\n",
       "      <th>3</th>\n",
       "      <td>だいこん</td>\n",
       "      <td>20051111</td>\n",
       "      <td>182624</td>\n",
       "      <td>682.5</td>\n",
       "      <td>千葉_青森</td>\n",
       "    </tr>\n",
       "    <tr>\n",
       "      <th>4</th>\n",
       "      <td>だいこん</td>\n",
       "      <td>20051112</td>\n",
       "      <td>220691</td>\n",
       "      <td>682.5</td>\n",
       "      <td>千葉_青森</td>\n",
       "    </tr>\n",
       "    <tr>\n",
       "      <th>...</th>\n",
       "      <td>...</td>\n",
       "      <td>...</td>\n",
       "      <td>...</td>\n",
       "      <td>...</td>\n",
       "      <td>...</td>\n",
       "    </tr>\n",
       "    <tr>\n",
       "      <th>97777</th>\n",
       "      <td>しめじ</td>\n",
       "      <td>20170526</td>\n",
       "      <td>17231</td>\n",
       "      <td>48.5</td>\n",
       "      <td>新潟_長野</td>\n",
       "    </tr>\n",
       "    <tr>\n",
       "      <th>97778</th>\n",
       "      <td>しめじ</td>\n",
       "      <td>20170527</td>\n",
       "      <td>17105</td>\n",
       "      <td>48.5</td>\n",
       "      <td>新潟_長野</td>\n",
       "    </tr>\n",
       "    <tr>\n",
       "      <th>97779</th>\n",
       "      <td>しめじ</td>\n",
       "      <td>20170529</td>\n",
       "      <td>12406</td>\n",
       "      <td>48.5</td>\n",
       "      <td>新潟_長野</td>\n",
       "    </tr>\n",
       "    <tr>\n",
       "      <th>97780</th>\n",
       "      <td>しめじ</td>\n",
       "      <td>20170530</td>\n",
       "      <td>12320</td>\n",
       "      <td>48.5</td>\n",
       "      <td>新潟_長野</td>\n",
       "    </tr>\n",
       "    <tr>\n",
       "      <th>97781</th>\n",
       "      <td>しめじ</td>\n",
       "      <td>20170531</td>\n",
       "      <td>11635</td>\n",
       "      <td>43.0</td>\n",
       "      <td>新潟_長野</td>\n",
       "    </tr>\n",
       "  </tbody>\n",
       "</table>\n",
       "<p>97782 rows × 5 columns</p>\n",
       "</div>"
      ],
      "text/plain": [
       "       kind      date  amount  mode_price      area\n",
       "0      だいこん  20051107  201445       735.0        千葉\n",
       "1      だいこん  20051108  189660       840.0  千葉_全国_青森\n",
       "2      だいこん  20051110  218166       735.0  千葉_全国_青森\n",
       "3      だいこん  20051111  182624       682.5     千葉_青森\n",
       "4      だいこん  20051112  220691       682.5     千葉_青森\n",
       "...     ...       ...     ...         ...       ...\n",
       "97777   しめじ  20170526   17231        48.5     新潟_長野\n",
       "97778   しめじ  20170527   17105        48.5     新潟_長野\n",
       "97779   しめじ  20170529   12406        48.5     新潟_長野\n",
       "97780   しめじ  20170530   12320        48.5     新潟_長野\n",
       "97781   しめじ  20170531   11635        43.0     新潟_長野\n",
       "\n",
       "[97782 rows x 5 columns]"
      ]
     },
     "execution_count": 14,
     "metadata": {},
     "output_type": "execute_result"
    }
   ],
   "source": [
    "vege_df['area'] = vege_df['area'].apply(lambda x: '_'.join([area_map[i] for i in x.split('_')]))\n",
    "vege_df"
   ]
  },
  {
   "cell_type": "markdown",
   "metadata": {},
   "source": [
    "天候データのエリアを「千葉_全国_青森」のように複数エリアにまたがっている場合の各統計量について、各エリアの平均をとることにする"
   ]
  },
  {
   "cell_type": "code",
   "execution_count": 56,
   "metadata": {},
   "outputs": [
    {
     "name": "stdout",
     "output_type": "stream",
     "text": [
      "(1545170, 8)\n"
     ]
    },
    {
     "data": {
      "text/html": [
       "<div>\n",
       "<style scoped>\n",
       "    .dataframe tbody tr th:only-of-type {\n",
       "        vertical-align: middle;\n",
       "    }\n",
       "\n",
       "    .dataframe tbody tr th {\n",
       "        vertical-align: top;\n",
       "    }\n",
       "\n",
       "    .dataframe thead th {\n",
       "        text-align: right;\n",
       "    }\n",
       "</style>\n",
       "<table border=\"1\" class=\"dataframe\">\n",
       "  <thead>\n",
       "    <tr style=\"text-align: right;\">\n",
       "      <th></th>\n",
       "      <th>date</th>\n",
       "      <th>mean_temp</th>\n",
       "      <th>max_temp</th>\n",
       "      <th>min_temp</th>\n",
       "      <th>sum_rain</th>\n",
       "      <th>sun_time</th>\n",
       "      <th>mean_humid</th>\n",
       "      <th>area</th>\n",
       "    </tr>\n",
       "  </thead>\n",
       "  <tbody>\n",
       "    <tr>\n",
       "      <th>0</th>\n",
       "      <td>2004-11-06</td>\n",
       "      <td>17.4</td>\n",
       "      <td>21.2</td>\n",
       "      <td>14.1</td>\n",
       "      <td>0.0</td>\n",
       "      <td>5.1</td>\n",
       "      <td>84.0</td>\n",
       "      <td>千葉</td>\n",
       "    </tr>\n",
       "    <tr>\n",
       "      <th>1</th>\n",
       "      <td>2004-11-07</td>\n",
       "      <td>17.0</td>\n",
       "      <td>22.2</td>\n",
       "      <td>13.5</td>\n",
       "      <td>0.0</td>\n",
       "      <td>7.9</td>\n",
       "      <td>77.0</td>\n",
       "      <td>千葉</td>\n",
       "    </tr>\n",
       "    <tr>\n",
       "      <th>2</th>\n",
       "      <td>2004-11-08</td>\n",
       "      <td>15.8</td>\n",
       "      <td>19.0</td>\n",
       "      <td>12.7</td>\n",
       "      <td>0.0</td>\n",
       "      <td>0.6</td>\n",
       "      <td>72.0</td>\n",
       "      <td>千葉</td>\n",
       "    </tr>\n",
       "    <tr>\n",
       "      <th>3</th>\n",
       "      <td>2004-11-09</td>\n",
       "      <td>16.8</td>\n",
       "      <td>21.5</td>\n",
       "      <td>12.4</td>\n",
       "      <td>0.0</td>\n",
       "      <td>7.8</td>\n",
       "      <td>75.0</td>\n",
       "      <td>千葉</td>\n",
       "    </tr>\n",
       "    <tr>\n",
       "      <th>4</th>\n",
       "      <td>2004-11-10</td>\n",
       "      <td>16.7</td>\n",
       "      <td>21.9</td>\n",
       "      <td>11.5</td>\n",
       "      <td>0.0</td>\n",
       "      <td>6.7</td>\n",
       "      <td>79.0</td>\n",
       "      <td>千葉</td>\n",
       "    </tr>\n",
       "  </tbody>\n",
       "</table>\n",
       "</div>"
      ],
      "text/plain": [
       "        date  mean_temp  max_temp  min_temp  sum_rain  sun_time  mean_humid  \\\n",
       "0 2004-11-06       17.4      21.2      14.1       0.0       5.1        84.0   \n",
       "1 2004-11-07       17.0      22.2      13.5       0.0       7.9        77.0   \n",
       "2 2004-11-08       15.8      19.0      12.7       0.0       0.6        72.0   \n",
       "3 2004-11-09       16.8      21.5      12.4       0.0       7.8        75.0   \n",
       "4 2004-11-10       16.7      21.9      11.5       0.0       6.7        79.0   \n",
       "\n",
       "  area  \n",
       "0   千葉  \n",
       "1   千葉  \n",
       "2   千葉  \n",
       "3   千葉  \n",
       "4   千葉  "
      ]
     },
     "execution_count": 56,
     "metadata": {},
     "output_type": "execute_result"
    }
   ],
   "source": [
    "# 卸売りデータのエリアのユニークリストを格納\n",
    "area_pairs = vege_df['area'].unique()\n",
    "\n",
    "target_cols = [i for i in weather_df.columns if i != 'area']\n",
    "target_cols_ex_date = [i for i in target_cols if i != 'date']\n",
    "\n",
    "area_pair_dfs = []\n",
    "\n",
    "for area_pair in area_pairs:\n",
    "    areas = area_pair.split('_')\n",
    "    if len(areas) > 0:\n",
    "        area = areas[0]\n",
    "        base_tmp_df = weather_df[weather_df['area'] == area]\n",
    "        base_tmp_df = base_tmp_df[target_cols].reset_index(drop=True)\n",
    "        for area in areas[1:]:\n",
    "            tmp_df = weather_df[weather_df['area'] == area]\n",
    "            tmp_df = tmp_df[target_cols].reset_index(drop=True)\n",
    "            base_tmp_df[target_cols_ex_date] = base_tmp_df[target_cols_ex_date].add(tmp_df[target_cols_ex_date])\n",
    "        base_tmp_df[target_cols_ex_date] /= len(areas)\n",
    "        base_tmp_df['area'] = area_pair\n",
    "        area_pair_dfs.append(base_tmp_df)\n",
    "\n",
    "area_pair_df = pd.concat(area_pair_dfs)\n",
    "print(area_pair_df.shape)\n",
    "area_pair_df.head()"
   ]
  },
  {
   "cell_type": "code",
   "execution_count": 59,
   "metadata": {},
   "outputs": [
    {
     "data": {
      "text/plain": [
       "(210705, 8)"
      ]
     },
     "execution_count": 59,
     "metadata": {},
     "output_type": "execute_result"
    }
   ],
   "source": [
    "weather_df.shape"
   ]
  },
  {
   "cell_type": "markdown",
   "metadata": {},
   "source": [
    "## データ確認"
   ]
  },
  {
   "cell_type": "code",
   "execution_count": 3,
   "metadata": {},
   "outputs": [
    {
     "name": "stdout",
     "output_type": "stream",
     "text": [
      "(行,列) =  (97782, 5)\n",
      "               date         amount    mode_price\n",
      "count  9.778200e+04   97782.000000  97782.000000\n",
      "mean   2.013619e+07   87095.257246   1341.207081\n",
      "std    4.726274e+04   84438.195701   1304.031597\n",
      "min    2.005111e+07       1.000000     18.500000\n",
      "25%    2.009123e+07   21664.250000    227.000000\n",
      "50%    2.014012e+07   58335.500000   1242.000000\n",
      "75%    2.018020e+07  128100.750000   1890.000000\n",
      "max    2.022043e+07  965216.000000  25920.000000\n"
     ]
    },
    {
     "data": {
      "text/html": [
       "<div>\n",
       "<style scoped>\n",
       "    .dataframe tbody tr th:only-of-type {\n",
       "        vertical-align: middle;\n",
       "    }\n",
       "\n",
       "    .dataframe tbody tr th {\n",
       "        vertical-align: top;\n",
       "    }\n",
       "\n",
       "    .dataframe thead th {\n",
       "        text-align: right;\n",
       "    }\n",
       "</style>\n",
       "<table border=\"1\" class=\"dataframe\">\n",
       "  <thead>\n",
       "    <tr style=\"text-align: right;\">\n",
       "      <th></th>\n",
       "      <th>kind</th>\n",
       "      <th>date</th>\n",
       "      <th>amount</th>\n",
       "      <th>mode_price</th>\n",
       "      <th>area</th>\n",
       "    </tr>\n",
       "  </thead>\n",
       "  <tbody>\n",
       "    <tr>\n",
       "      <th>0</th>\n",
       "      <td>だいこん</td>\n",
       "      <td>20051107</td>\n",
       "      <td>201445</td>\n",
       "      <td>735.0</td>\n",
       "      <td>千葉</td>\n",
       "    </tr>\n",
       "    <tr>\n",
       "      <th>1</th>\n",
       "      <td>だいこん</td>\n",
       "      <td>20051108</td>\n",
       "      <td>189660</td>\n",
       "      <td>840.0</td>\n",
       "      <td>千葉_各地_青森</td>\n",
       "    </tr>\n",
       "    <tr>\n",
       "      <th>2</th>\n",
       "      <td>だいこん</td>\n",
       "      <td>20051110</td>\n",
       "      <td>218166</td>\n",
       "      <td>735.0</td>\n",
       "      <td>千葉_各地_青森</td>\n",
       "    </tr>\n",
       "    <tr>\n",
       "      <th>3</th>\n",
       "      <td>だいこん</td>\n",
       "      <td>20051111</td>\n",
       "      <td>182624</td>\n",
       "      <td>682.5</td>\n",
       "      <td>千葉_青森</td>\n",
       "    </tr>\n",
       "    <tr>\n",
       "      <th>4</th>\n",
       "      <td>だいこん</td>\n",
       "      <td>20051112</td>\n",
       "      <td>220691</td>\n",
       "      <td>682.5</td>\n",
       "      <td>千葉_青森</td>\n",
       "    </tr>\n",
       "  </tbody>\n",
       "</table>\n",
       "</div>"
      ],
      "text/plain": [
       "   kind      date  amount  mode_price      area\n",
       "0  だいこん  20051107  201445       735.0        千葉\n",
       "1  だいこん  20051108  189660       840.0  千葉_各地_青森\n",
       "2  だいこん  20051110  218166       735.0  千葉_各地_青森\n",
       "3  だいこん  20051111  182624       682.5     千葉_青森\n",
       "4  だいこん  20051112  220691       682.5     千葉_青森"
      ]
     },
     "metadata": {},
     "output_type": "display_data"
    }
   ],
   "source": [
    "print(\"(行,列) = \", vege_df.shape)\n",
    "print(vege_df.describe())\n",
    "display(vege_df.head(5))\n"
   ]
  },
  {
   "cell_type": "markdown",
   "metadata": {},
   "source": [
    "## EDA(探索的データ分析)"
   ]
  },
  {
   "cell_type": "code",
   "execution_count": 4,
   "metadata": {},
   "outputs": [
    {
     "data": {
      "application/vnd.jupyter.widget-view+json": {
       "model_id": "6641014058e447f190f7ace020447297",
       "version_major": 2,
       "version_minor": 0
      },
      "text/plain": [
       "Summarize dataset:   0%|          | 0/18 [00:00<?, ?it/s]"
      ]
     },
     "metadata": {},
     "output_type": "display_data"
    },
    {
     "data": {
      "application/vnd.jupyter.widget-view+json": {
       "model_id": "e55c9fec2b3b42f791b795632aa1b634",
       "version_major": 2,
       "version_minor": 0
      },
      "text/plain": [
       "Generate report structure:   0%|          | 0/1 [00:00<?, ?it/s]"
      ]
     },
     "metadata": {},
     "output_type": "display_data"
    },
    {
     "data": {
      "application/vnd.jupyter.widget-view+json": {
       "model_id": "57a2c0d6bde9430a8494f9ee9ddefef8",
       "version_major": 2,
       "version_minor": 0
      },
      "text/plain": [
       "Render HTML:   0%|          | 0/1 [00:00<?, ?it/s]"
      ]
     },
     "metadata": {},
     "output_type": "display_data"
    },
    {
     "data": {
      "application/vnd.jupyter.widget-view+json": {
       "model_id": "c11525ca128142fc88abdea1acfbaccc",
       "version_major": 2,
       "version_minor": 0
      },
      "text/plain": [
       "Export report to file:   0%|          | 0/1 [00:00<?, ?it/s]"
      ]
     },
     "metadata": {},
     "output_type": "display_data"
    }
   ],
   "source": [
    "# pandas-profilingでデータの外観を確認\n",
    "report = pdp.ProfileReport(vege_df)\n",
    "report.to_file('Pandas-profiling_report.html')"
   ]
  },
  {
   "cell_type": "code",
   "execution_count": 5,
   "metadata": {},
   "outputs": [
    {
     "name": "stdout",
     "output_type": "stream",
     "text": [
      "20051107\n",
      "20220430\n"
     ]
    }
   ],
   "source": [
    "print(vege_df.date.min())\n",
    "print(vege_df.date.max())"
   ]
  },
  {
   "cell_type": "code",
   "execution_count": 13,
   "metadata": {},
   "outputs": [
    {
     "name": "stdout",
     "output_type": "stream",
     "text": [
      "['だいこん' 'かぶ' 'にんじん' 'ごぼう' 'れんこん' 'キャベツ' 'レタス' 'はくさい' 'こまつな' 'ほうれんそう' 'ねぎ'\n",
      " 'しゅんぎく' 'ブロッコリー' 'きゅうり' 'かぼちゃ' 'なす' 'トマト' 'ピーマン' 'じゃがいも' 'さつまいも' 'さといも'\n",
      " 'たまねぎ' 'なましいたけ' 'セルリー' 'さやえんどう' 'なのはな' 'たけのこ' 'ふき' 'うど' 'そらまめ' 'アスパラガス'\n",
      " 'ピース' 'とうもろこし' 'いんげん' 'えだまめ' 'うめ' 'まつたけ' 'オクラ' 'レイシにがうり' 'みずな' 'ミニトマト'\n",
      " 'にら' 'えのきだけ' 'しめじ']\n"
     ]
    },
    {
     "data": {
      "text/plain": [
       "<AxesSubplot:>"
      ]
     },
     "execution_count": 13,
     "metadata": {},
     "output_type": "execute_result"
    },
    {
     "data": {
      "image/png": "[encoded data removed]",
      "text/plain": [
       "<Figure size 864x432 with 1 Axes>"
      ]
     },
     "metadata": {
      "needs_background": "light"
     },
     "output_type": "display_data"
    }
   ],
   "source": [
    "print(vege_df.kind.unique())\n",
    "plt.figure(figsize=(12,6))\n",
    "plt.xticks(rotation=90)\n",
    "vege_df.kind.hist()"
   ]
  },
  {
   "cell_type": "code",
   "execution_count": 40,
   "metadata": {},
   "outputs": [
    {
     "name": "stdout",
     "output_type": "stream",
     "text": [
      "['千葉' '千葉_各地_青森' '千葉_青森' '千葉_各地' '千葉_神奈川' '千葉_各地_神奈川' '神奈川' '千葉_各地_茨城'\n",
      " '千葉_茨城' '青森' '北海道_青森' '北海道_各地_青森' '北海道_各地' '北海道_千葉_各地' '各地_神奈川' '各地_青森'\n",
      " '各地' '北海道' '千葉_埼玉' '千葉_各地_埼玉' '各地_埼玉' '埼玉' '北海道_千葉' '千葉_徳島' '千葉_各地_徳島'\n",
      " '徳島' '各地_徳島' '中国_各地_徳島' '中国_北海道' '各地_徳島_静岡' '徳島_静岡' '茨城' '各地_茨城'\n",
      " '各地_茨城_青森' '茨城_青森' '佐賀_茨城' '佐賀_各地_茨城' '千葉_各地_愛知' '千葉_愛知' '愛知' '各地_愛知_神奈川'\n",
      " '岩手_群馬' '各地_岩手_群馬' '北海道_各地_群馬' '各地_群馬' '群馬' '千葉_各地_群馬' '千葉_群馬' '各地_愛知'\n",
      " '愛知_神奈川' '各地_群馬_茨城' '各地_茨城_香川' '各地_静岡_香川' '各地_香川' '各地_茨城_長野' '茨城_長野' '長野'\n",
      " '群馬_長野' '各地_群馬_長野' '各地_長野' '静岡_香川' '各地_茨城_静岡' '兵庫_各地_茨城' '兵庫_各地_静岡'\n",
      " '各地_静岡' '兵庫_茨城' '兵庫_各地' '兵庫_静岡' '茨城_静岡' '静岡' '各地_茨城_長崎' '群馬_茨城' '埼玉_東京'\n",
      " '各地_埼玉_東京' '各地_東京' '東京' '各地_埼玉_群馬' '埼玉_群馬' '各地_栃木' '栃木_群馬' '栃木' '栃木_茨城'\n",
      " '各地_栃木_群馬' '中国_各地_青森' '各地_埼玉_青森' '埼玉_青森' '各地_秋田_青森' '秋田_青森' '各地_秋田'\n",
      " '千葉_栃木' '千葉_各地_栃木' '各地_埼玉_愛知' '埼玉_愛知' '香川' '福島_長野' '千葉_各地_宮崎' '各地_埼玉_福島'\n",
      " '各地_岩手_福島' '各地_福島' '各地_埼玉_宮崎' '各地_福島_茨城' '岩手' '各地_宮崎_高知' '各地_宮崎_群馬'\n",
      " '各地_福島_群馬' 'トンガ_北海道' 'トンガ' 'トンガ_北海道_各地' 'トンガ_メキシコ_各地' 'トンガ_各地' 'トンガ_メキシコ'\n",
      " 'メキシコ' 'メキシコ_各地' 'ニュージーランド_沖縄' 'ニュージーランド' 'ニュージーランド_各地' 'ニュージーランド_鹿児島'\n",
      " 'ニュージーランド_各地_鹿児島' '各地_鹿児島' '各地_神奈川_茨城' 'ニュージーランド_各地_沖縄' 'メキシコ_各地_鹿児島'\n",
      " 'メキシコ_鹿児島' '鹿児島' '神奈川_茨城' '北海道_各地_茨城' '北海道_茨城' 'ニュージーランド_メキシコ'\n",
      " 'ニュージーランド_メキシコ_各地' 'メキシコ_北海道' 'メキシコ_北海道_各地' '各地_沖縄' '各地_茨城_鹿児島' '高知'\n",
      " '各地_福岡_高知' '各地_高知' '各地_栃木_高知' '福岡_高知' '栃木_高知' '各地_群馬_高知' '佐賀_高知'\n",
      " '千葉_各地_熊本' '各地_愛知_熊本' '各地_栃木_熊本' '各地_群馬_青森' '各地_栃木_青森' '各地_栃木_茨城'\n",
      " '各地_福島_青森' '各地_熊本' '千葉_各地_福島' '北海道_各地_福島' '宮崎_茨城' '各地_宮崎_茨城' '宮崎_高知'\n",
      " '各地_岩手_茨城' '岩手_茨城' '各地_岩手' '各地_宮崎' '各地_茨城_高知' '茨城_高知' '長崎' '北海道_長崎'\n",
      " '北海道_各地_鹿児島' '北海道_鹿児島' '長崎_鹿児島' '各地_長崎_鹿児島' '各地_長崎' '千葉_各地_長崎' '千葉_静岡'\n",
      " '千葉_各地_静岡' '長崎_静岡' '各地_長崎_静岡' '北海道_各地_長崎' '各地_香川_高知' '香川_高知' '千葉_各地_高知'\n",
      " '千葉_各地_香川' '各地_埼玉_愛媛' '埼玉_愛媛' '中国_北海道_各地' 'アメリカ_北海道_各地' 'アメリカ_北海道'\n",
      " '佐賀_北海道_各地' '佐賀_北海道' '佐賀_各地' '佐賀' '佐賀_兵庫_各地' '佐賀_各地_香川' '佐賀_兵庫' '佐賀_香川'\n",
      " '兵庫_北海道_各地' '兵庫_北海道' '北海道_静岡' '兵庫' '各地_岩手_栃木' '各地_岩手_秋田' '岩手_秋田' '岩手_栃木'\n",
      " '北海道_各地_岩手' '各地_栃木_秋田' '千葉_各地_岩手' '千葉_各地_秋田' '愛知_静岡' '各地_愛知_静岡'\n",
      " '各地_長野_静岡' '長野_静岡' '各地_福岡_静岡' '福岡_静岡' '福島' '千葉_香川' '福岡' '各地_熊本_福岡'\n",
      " '各地_福岡' '愛知_群馬' '各地_愛知_群馬' '千葉_鹿児島' '千葉_各地_鹿児島' '各地_宮城_茨城' '各地_宮城' '宮城'\n",
      " '各地_愛媛' '千葉_各地_愛媛' '愛媛' '千葉_愛媛' '宮城_茨城' '各地_宮城_秋田' '栃木_長野' '各地_福岡_鹿児島'\n",
      " '福岡_鹿児島' '千葉_各地_山梨' '千葉_山梨' '千葉_岩手' '北海道_群馬' '山梨' '北海道_岩手' '各地_山梨'\n",
      " '山梨_茨城' '各地_山梨_茨城' '福島_青森' '各地_福島_長崎' '福島_長崎' '各地_福島_鹿児島' '各地_沖縄_鹿児島'\n",
      " '山形' '山形_群馬' '各地_秋田_群馬' '各地_山形_秋田' '各地_和歌山_群馬' '和歌山_群馬' '和歌山' '各地_和歌山'\n",
      " '中国' 'カナダ_中国' 'アメリカ_中国' 'アメリカ' 'アメリカ_カナダ' 'カナダ' '各地_高知_鹿児島' '高知_鹿児島'\n",
      " '各地_宮崎_鹿児島' '宮崎_群馬' '宮崎' '各地_沖縄_群馬' '各地_埼玉_茨城' '埼玉_茨城' '新潟_長野']\n"
     ]
    },
    {
     "data": {
      "text/plain": [
       "<AxesSubplot:>"
      ]
     },
     "execution_count": 40,
     "metadata": {},
     "output_type": "execute_result"
    },
    {
     "data": {
      "image/png": "[encoded data removed]",
      "text/plain": [
       "<Figure size 864x432 with 1 Axes>"
      ]
     },
     "metadata": {
      "needs_background": "light"
     },
     "output_type": "display_data"
    }
   ],
   "source": [
    "print(vege_df.area.unique())\n",
    "plt.figure(figsize=(12,6))\n",
    "plt.xticks(rotation=90)\n",
    "vege_df.area.hist()"
   ]
  },
  {
   "cell_type": "code",
   "execution_count": 39,
   "metadata": {},
   "outputs": [
    {
     "data": {
      "text/plain": [
       "0        20051107\n",
       "1        20051108\n",
       "2        20051110\n",
       "3        20051111\n",
       "4        20051112\n",
       "           ...   \n",
       "97777    20170526\n",
       "97778    20170527\n",
       "97779    20170529\n",
       "97780    20170530\n",
       "97781    20170531\n",
       "Name: date, Length: 97782, dtype: object"
      ]
     },
     "execution_count": 39,
     "metadata": {},
     "output_type": "execute_result"
    }
   ],
   "source": [
    "pd.to_datetime(vege_df.date, format=\"%Y%m%d\")\n",
    "\n",
    "\n",
    "# リストを結合する関数 例：['2005', '11', '07'] -> '20051107'\n",
    "list_join_function = lambda x: \"\".join(x)\n",
    "# datetimeをstr型にし、-で分割したのち結合 例: 2005-11-07 -> '20051107'\n",
    "pd.to_datetime(vege_df.date, format=\"%Y%m%d\").astype('str').str.split('-').apply(list_join_function)"
   ]
  },
  {
   "cell_type": "markdown",
   "metadata": {},
   "source": [
    "欠損値の処理の仕方\n",
    "- データが非常多ければ削除\n",
    "- 大体は欠損値保管\n",
    "    - 回帰"
   ]
  },
  {
   "cell_type": "markdown",
   "metadata": {},
   "source": []
  }
 ],
 "metadata": {
  "kernelspec": {
   "display_name": "Python 3.8.13 ('ds')",
   "language": "python",
   "name": "python3"
  },
  "language_info": {
   "codemirror_mode": {
    "name": "ipython",
    "version": 3
   },
   "file_extension": ".py",
   "mimetype": "text/x-python",
   "name": "python",
   "nbconvert_exporter": "python",
   "pygments_lexer": "ipython3",
   "version": "3.8.13"
  },
  "orig_nbformat": 4,
  "vscode": {
   "interpreter": {
    "hash": "241b99404d665e26c86dd6bd11157695d060d8aaf1ab084d739d1eb7b9b836b5"
   }
  }
 },
 "nbformat": 4,
 "nbformat_minor": 2
}
